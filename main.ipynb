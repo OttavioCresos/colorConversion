{
  "nbformat": 4,
  "nbformat_minor": 0,
  "metadata": {
    "colab": {
      "provenance": [],
      "authorship_tag": "ABX9TyNShTJ/JxyVESrVTi7P+NVI",
      "include_colab_link": true
    },
    "kernelspec": {
      "name": "python3",
      "display_name": "Python 3"
    },
    "language_info": {
      "name": "python"
    }
  },
  "cells": [
    {
      "cell_type": "markdown",
      "metadata": {
        "id": "view-in-github",
        "colab_type": "text"
      },
      "source": [
        "<a href=\"https://colab.research.google.com/github/OttavioCresos/colorConversion/blob/main/main.ipynb\" target=\"_parent\"><img src=\"https://colab.research.google.com/assets/colab-badge.svg\" alt=\"Open In Colab\"/></a>"
      ]
    },
    {
      "cell_type": "code",
      "execution_count": 20,
      "metadata": {
        "id": "2dwD7iCp75GH"
      },
      "outputs": [],
      "source": [
        "#importing the modules needed to perform the transformation through the AWS API I created:\n",
        "\n",
        "#*** \n",
        "#please upload a colorful PNG image to the colab notebook in order to continue! Rename the file musicColor.png \n",
        "#***#\n",
        "\n",
        "from io import BytesIO\n",
        "# The Python Imaging Library adds image processing capabilities to the Python interpreter\n",
        "from PIL import Image\n",
        "#importing numpy\n",
        "import numpy as np\n",
        "#requests, http lib to handle requests\n",
        "import requests\n",
        "#OpenCV, a Python library that allows performing image processing and computer vision tasks\n",
        "import cv2\n",
        "\n"
      ]
    },
    {
      "cell_type": "code",
      "source": [
        "#a function that makes use of the Lambda function included in the AWS API: \n",
        "def convertToGrayAPI(img):\n",
        "    #the AWS custom API URL address:\n",
        "    API_ENDPOINT = 'https://ucsy93uxjh.execute-api.eu-west-2.amazonaws.com/developmentAPI'\n",
        "\n",
        "    is_success, im_buf_arr = cv2.imencode(\".png\", img)\n",
        "    byte_im = im_buf_arr.tobytes()\n",
        "\n",
        "    r = requests.post(url=API_ENDPOINT, data=byte_im)\n",
        "\n",
        "    img_ = Image.open(BytesIO(r.content))\n",
        "    \n",
        "    return np.asarray(img_)"
      ],
      "metadata": {
        "id": "RGBZ3FTyDFFx"
      },
      "execution_count": 21,
      "outputs": []
    },
    {
      "cell_type": "code",
      "source": [
        "\n",
        "if __name__ == \"__main__\":\n",
        "    #read the original image \n",
        "    img = cv2.imread('/musicColor.png')\n",
        "    #converting the image with the API function\n",
        "    img_gray = convertToGrayAPI(img)\n",
        "    #the new greyscale converted file will be written in the MEDIA folder of the colab notebook\n",
        "    cv2.imwrite('/media/musicColorConversion.png', img_gray)"
      ],
      "metadata": {
        "id": "IEIR6PZWDI2u"
      },
      "execution_count": 25,
      "outputs": []
    }
  ]
}